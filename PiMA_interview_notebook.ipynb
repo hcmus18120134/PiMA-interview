{
  "nbformat": 4,
  "nbformat_minor": 0,
  "metadata": {
    "colab": {
      "name": "PiMA interview notebook.ipynb",
      "version": "0.3.2",
      "provenance": [],
      "collapsed_sections": [
        "_OURQOYZz9y0",
        "F132I0Y0Sf9h"
      ],
      "toc_visible": true
    },
    "kernelspec": {
      "name": "python3",
      "display_name": "Python 3"
    }
  },
  "cells": [
    {
      "metadata": {
        "id": "rxHWtVDe3phZ",
        "colab_type": "text"
      },
      "cell_type": "markdown",
      "source": [
        "# Perceptron "
      ]
    },
    {
      "metadata": {
        "id": "uhEgIFX7Hcde",
        "colab_type": "text"
      },
      "cell_type": "markdown",
      "source": [
        "Khai báo thư viện "
      ]
    },
    {
      "metadata": {
        "id": "CBcM073H3uLd",
        "colab_type": "code",
        "colab": {}
      },
      "cell_type": "code",
      "source": [
        "from keras.models import Sequential\n",
        "from keras.layers import Dense\n",
        "import numpy as np\n",
        "import matplotlib.pyplot as plt\n",
        "%matplotlib inline\n"
      ],
      "execution_count": 0,
      "outputs": []
    },
    {
      "metadata": {
        "id": "F5UtnogzHgPZ",
        "colab_type": "text"
      },
      "cell_type": "markdown",
      "source": [
        "Khởi tạo dataset, các giá trị Y dựa vào X cộng thêm một số nhiễu "
      ]
    },
    {
      "metadata": {
        "id": "UA9Df_0v3xVg",
        "colab_type": "code",
        "colab": {}
      },
      "cell_type": "code",
      "source": [
        "trX = np.linspace(-1, 1, 101)\n",
        "trY = 2 * trX + np.random.randn(*trX.shape) * 0.33 "
      ],
      "execution_count": 0,
      "outputs": []
    },
    {
      "metadata": {
        "id": "B0Ge28dAHy7m",
        "colab_type": "text"
      },
      "cell_type": "markdown",
      "source": [
        "**Khởi tạo mô hình linear regression**"
      ]
    },
    {
      "metadata": {
        "id": "3htwJEXJ32mt",
        "colab_type": "code",
        "colab": {
          "base_uri": "https://localhost:8080/",
          "height": 71
        },
        "outputId": "8fb8bfc3-40b3-49ca-8acd-0cd2120ae238"
      },
      "cell_type": "code",
      "source": [
        "# Linear regression model\n",
        "model = Sequential()\n",
        "model.add(Dense(input_dim=1, output_dim=1, init='uniform', activation='linear'))\n",
        "model.compile(optimizer='sgd', loss='mse')\n"
      ],
      "execution_count": 73,
      "outputs": [
        {
          "output_type": "stream",
          "text": [
            "/usr/local/lib/python3.6/dist-packages/ipykernel_launcher.py:2: UserWarning: Update your `Dense` call to the Keras 2 API: `Dense(input_dim=1, activation=\"linear\", units=1, kernel_initializer=\"uniform\")`\n",
            "  \n"
          ],
          "name": "stderr"
        }
      ]
    },
    {
      "metadata": {
        "id": "8Qnb0M-XH-Op",
        "colab_type": "text"
      },
      "cell_type": "markdown",
      "source": [
        "Khởi tạo các giá trị trọng số ban đầu"
      ]
    },
    {
      "metadata": {
        "id": "ED9AI29434yz",
        "colab_type": "code",
        "colab": {
          "base_uri": "https://localhost:8080/",
          "height": 34
        },
        "outputId": "40cbc363-61a2-4bd5-bb42-9d27dae96a20"
      },
      "cell_type": "code",
      "source": [
        "# Print initial weights\n",
        "weights = model.layers[0].get_weights()\n",
        "w_init = weights[0][0][0]\n",
        "b_init = weights[1][0]\n",
        "print('Linear regression model is initialized with weight w: %.2f, b: %.2f' % (w_init, b_init))\n"
      ],
      "execution_count": 74,
      "outputs": [
        {
          "output_type": "stream",
          "text": [
            "Linear regression model is initialized with weight w: 0.03, b: 0.00\n"
          ],
          "name": "stdout"
        }
      ]
    },
    {
      "metadata": {
        "id": "WpvhYMknIA9l",
        "colab_type": "text"
      },
      "cell_type": "markdown",
      "source": [
        "Huấn luyện mô hình"
      ]
    },
    {
      "metadata": {
        "id": "7TYLx4MW3_vp",
        "colab_type": "code",
        "colab": {
          "base_uri": "https://localhost:8080/",
          "height": 3488
        },
        "outputId": "33ab2535-e768-4e85-addf-b9e304aee3da"
      },
      "cell_type": "code",
      "source": [
        "model.fit(trX, trY, nb_epoch=100, verbose=1)\n"
      ],
      "execution_count": 78,
      "outputs": [
        {
          "output_type": "stream",
          "text": [
            "Epoch 1/100\n",
            "101/101 [==============================] - 0s 85us/step - loss: 0.8368\n",
            "Epoch 2/100\n",
            "101/101 [==============================] - 0s 92us/step - loss: 0.7964\n",
            "Epoch 3/100\n",
            "101/101 [==============================] - 0s 109us/step - loss: 0.7600\n",
            "Epoch 4/100\n",
            "101/101 [==============================] - 0s 65us/step - loss: 0.7269\n",
            "Epoch 5/100\n",
            "101/101 [==============================] - 0s 71us/step - loss: 0.6947\n",
            "Epoch 6/100\n",
            "101/101 [==============================] - 0s 53us/step - loss: 0.6676\n",
            "Epoch 7/100\n",
            "101/101 [==============================] - 0s 50us/step - loss: 0.6346\n",
            "Epoch 8/100\n",
            "101/101 [==============================] - 0s 62us/step - loss: 0.6016\n",
            "Epoch 9/100\n",
            "101/101 [==============================] - 0s 61us/step - loss: 0.5732\n",
            "Epoch 10/100\n",
            "101/101 [==============================] - 0s 60us/step - loss: 0.5454\n",
            "Epoch 11/100\n",
            "101/101 [==============================] - 0s 63us/step - loss: 0.5214\n",
            "Epoch 12/100\n",
            "101/101 [==============================] - 0s 59us/step - loss: 0.4984\n",
            "Epoch 13/100\n",
            "101/101 [==============================] - 0s 64us/step - loss: 0.4787\n",
            "Epoch 14/100\n",
            "101/101 [==============================] - 0s 61us/step - loss: 0.4607\n",
            "Epoch 15/100\n",
            "101/101 [==============================] - 0s 60us/step - loss: 0.4439\n",
            "Epoch 16/100\n",
            "101/101 [==============================] - 0s 61us/step - loss: 0.4237\n",
            "Epoch 17/100\n",
            "101/101 [==============================] - 0s 59us/step - loss: 0.4076\n",
            "Epoch 18/100\n",
            "101/101 [==============================] - 0s 60us/step - loss: 0.3939\n",
            "Epoch 19/100\n",
            "101/101 [==============================] - 0s 61us/step - loss: 0.3774\n",
            "Epoch 20/100\n",
            "101/101 [==============================] - 0s 62us/step - loss: 0.3642\n",
            "Epoch 21/100\n",
            "101/101 [==============================] - 0s 69us/step - loss: 0.3516\n",
            "Epoch 22/100\n",
            "101/101 [==============================] - 0s 67us/step - loss: 0.3392\n",
            "Epoch 23/100\n",
            "101/101 [==============================] - 0s 69us/step - loss: 0.3275\n"
          ],
          "name": "stdout"
        },
        {
          "output_type": "stream",
          "text": [
            "/usr/local/lib/python3.6/dist-packages/ipykernel_launcher.py:1: UserWarning: The `nb_epoch` argument in `fit` has been renamed `epochs`.\n",
            "  \"\"\"Entry point for launching an IPython kernel.\n"
          ],
          "name": "stderr"
        },
        {
          "output_type": "stream",
          "text": [
            "Epoch 24/100\n",
            "101/101 [==============================] - 0s 78us/step - loss: 0.3152\n",
            "Epoch 25/100\n",
            "101/101 [==============================] - 0s 70us/step - loss: 0.3047\n",
            "Epoch 26/100\n",
            "101/101 [==============================] - 0s 64us/step - loss: 0.2958\n",
            "Epoch 27/100\n",
            "101/101 [==============================] - 0s 67us/step - loss: 0.2878\n",
            "Epoch 28/100\n",
            "101/101 [==============================] - 0s 65us/step - loss: 0.2794\n",
            "Epoch 29/100\n",
            "101/101 [==============================] - 0s 64us/step - loss: 0.2709\n",
            "Epoch 30/100\n",
            "101/101 [==============================] - 0s 72us/step - loss: 0.2624\n",
            "Epoch 31/100\n",
            "101/101 [==============================] - 0s 62us/step - loss: 0.2547\n",
            "Epoch 32/100\n",
            "101/101 [==============================] - 0s 68us/step - loss: 0.2477\n",
            "Epoch 33/100\n",
            "101/101 [==============================] - 0s 71us/step - loss: 0.2409\n",
            "Epoch 34/100\n",
            "101/101 [==============================] - 0s 69us/step - loss: 0.2356\n",
            "Epoch 35/100\n",
            "101/101 [==============================] - 0s 73us/step - loss: 0.2283\n",
            "Epoch 36/100\n",
            "101/101 [==============================] - 0s 64us/step - loss: 0.2225\n",
            "Epoch 37/100\n",
            "101/101 [==============================] - 0s 88us/step - loss: 0.2172\n",
            "Epoch 38/100\n",
            "101/101 [==============================] - 0s 63us/step - loss: 0.2126\n",
            "Epoch 39/100\n",
            "101/101 [==============================] - 0s 63us/step - loss: 0.2084\n",
            "Epoch 40/100\n",
            "101/101 [==============================] - 0s 64us/step - loss: 0.2035\n",
            "Epoch 41/100\n",
            "101/101 [==============================] - 0s 62us/step - loss: 0.1991\n",
            "Epoch 42/100\n",
            "101/101 [==============================] - 0s 63us/step - loss: 0.1949\n",
            "Epoch 43/100\n",
            "101/101 [==============================] - 0s 66us/step - loss: 0.1901\n",
            "Epoch 44/100\n",
            "101/101 [==============================] - 0s 66us/step - loss: 0.1861\n",
            "Epoch 45/100\n",
            "101/101 [==============================] - 0s 62us/step - loss: 0.1824\n",
            "Epoch 46/100\n",
            "101/101 [==============================] - 0s 43us/step - loss: 0.1782\n",
            "Epoch 47/100\n",
            "101/101 [==============================] - 0s 42us/step - loss: 0.1749\n",
            "Epoch 48/100\n",
            "101/101 [==============================] - 0s 43us/step - loss: 0.1722\n",
            "Epoch 49/100\n",
            "101/101 [==============================] - 0s 47us/step - loss: 0.1696\n",
            "Epoch 50/100\n",
            "101/101 [==============================] - 0s 43us/step - loss: 0.1672\n",
            "Epoch 51/100\n",
            "101/101 [==============================] - 0s 45us/step - loss: 0.1647\n",
            "Epoch 52/100\n",
            "101/101 [==============================] - 0s 46us/step - loss: 0.1622\n",
            "Epoch 53/100\n",
            "101/101 [==============================] - 0s 43us/step - loss: 0.1598\n",
            "Epoch 54/100\n",
            "101/101 [==============================] - 0s 41us/step - loss: 0.1571\n",
            "Epoch 55/100\n",
            "101/101 [==============================] - 0s 43us/step - loss: 0.1552\n",
            "Epoch 56/100\n",
            "101/101 [==============================] - 0s 53us/step - loss: 0.1532\n",
            "Epoch 57/100\n",
            "101/101 [==============================] - 0s 48us/step - loss: 0.1513\n",
            "Epoch 58/100\n",
            "101/101 [==============================] - 0s 47us/step - loss: 0.1495\n",
            "Epoch 59/100\n",
            "101/101 [==============================] - 0s 48us/step - loss: 0.1474\n",
            "Epoch 60/100\n",
            "101/101 [==============================] - 0s 46us/step - loss: 0.1457\n",
            "Epoch 61/100\n",
            "101/101 [==============================] - 0s 45us/step - loss: 0.1441\n",
            "Epoch 62/100\n",
            "101/101 [==============================] - 0s 54us/step - loss: 0.1428\n",
            "Epoch 63/100\n",
            "101/101 [==============================] - 0s 48us/step - loss: 0.1412\n",
            "Epoch 64/100\n",
            "101/101 [==============================] - 0s 44us/step - loss: 0.1399\n",
            "Epoch 65/100\n",
            "101/101 [==============================] - 0s 48us/step - loss: 0.1383\n",
            "Epoch 66/100\n",
            "101/101 [==============================] - 0s 53us/step - loss: 0.1373\n",
            "Epoch 67/100\n",
            "101/101 [==============================] - 0s 44us/step - loss: 0.1361\n",
            "Epoch 68/100\n",
            "101/101 [==============================] - 0s 43us/step - loss: 0.1351\n",
            "Epoch 69/100\n",
            "101/101 [==============================] - 0s 42us/step - loss: 0.1340\n",
            "Epoch 70/100\n",
            "101/101 [==============================] - 0s 42us/step - loss: 0.1328\n",
            "Epoch 71/100\n",
            "101/101 [==============================] - 0s 44us/step - loss: 0.1318\n",
            "Epoch 72/100\n",
            "101/101 [==============================] - 0s 47us/step - loss: 0.1307\n",
            "Epoch 73/100\n",
            "101/101 [==============================] - 0s 44us/step - loss: 0.1300\n",
            "Epoch 74/100\n",
            "101/101 [==============================] - 0s 44us/step - loss: 0.1290\n",
            "Epoch 75/100\n",
            "101/101 [==============================] - 0s 45us/step - loss: 0.1284\n",
            "Epoch 76/100\n",
            "101/101 [==============================] - 0s 44us/step - loss: 0.1278\n",
            "Epoch 77/100\n",
            "101/101 [==============================] - 0s 42us/step - loss: 0.1272\n",
            "Epoch 78/100\n",
            "101/101 [==============================] - 0s 42us/step - loss: 0.1260\n",
            "Epoch 79/100\n",
            "101/101 [==============================] - 0s 47us/step - loss: 0.1254\n",
            "Epoch 80/100\n",
            "101/101 [==============================] - 0s 49us/step - loss: 0.1247\n",
            "Epoch 81/100\n",
            "101/101 [==============================] - 0s 48us/step - loss: 0.1242\n",
            "Epoch 82/100\n",
            "101/101 [==============================] - 0s 47us/step - loss: 0.1236\n",
            "Epoch 83/100\n",
            "101/101 [==============================] - 0s 63us/step - loss: 0.1233\n",
            "Epoch 84/100\n",
            "101/101 [==============================] - 0s 43us/step - loss: 0.1229\n",
            "Epoch 85/100\n",
            "101/101 [==============================] - 0s 44us/step - loss: 0.1224\n",
            "Epoch 86/100\n",
            "101/101 [==============================] - 0s 48us/step - loss: 0.1220\n",
            "Epoch 87/100\n",
            "101/101 [==============================] - 0s 46us/step - loss: 0.1219\n",
            "Epoch 88/100\n",
            "101/101 [==============================] - 0s 43us/step - loss: 0.1215\n",
            "Epoch 89/100\n",
            "101/101 [==============================] - 0s 43us/step - loss: 0.1212\n",
            "Epoch 90/100\n",
            "101/101 [==============================] - 0s 45us/step - loss: 0.1209\n",
            "Epoch 91/100\n",
            "101/101 [==============================] - 0s 48us/step - loss: 0.1206\n",
            "Epoch 92/100\n",
            "101/101 [==============================] - 0s 50us/step - loss: 0.1204\n",
            "Epoch 93/100\n",
            "101/101 [==============================] - 0s 42us/step - loss: 0.1201\n",
            "Epoch 94/100\n",
            "101/101 [==============================] - 0s 45us/step - loss: 0.1198\n",
            "Epoch 95/100\n",
            "101/101 [==============================] - 0s 47us/step - loss: 0.1196\n",
            "Epoch 96/100\n",
            "101/101 [==============================] - 0s 49us/step - loss: 0.1194\n",
            "Epoch 97/100\n",
            "101/101 [==============================] - 0s 43us/step - loss: 0.1191\n",
            "Epoch 98/100\n",
            "101/101 [==============================] - 0s 49us/step - loss: 0.1189\n",
            "Epoch 99/100\n",
            "101/101 [==============================] - 0s 49us/step - loss: 0.1186\n",
            "Epoch 100/100\n",
            "101/101 [==============================] - 0s 47us/step - loss: 0.1185\n"
          ],
          "name": "stdout"
        },
        {
          "output_type": "execute_result",
          "data": {
            "text/plain": [
              "<keras.callbacks.History at 0x7f454cccd710>"
            ]
          },
          "metadata": {
            "tags": []
          },
          "execution_count": 78
        }
      ]
    },
    {
      "metadata": {
        "id": "ZobFddy54Ftk",
        "colab_type": "code",
        "colab": {
          "base_uri": "https://localhost:8080/",
          "height": 34
        },
        "outputId": "4bc29aac-1292-4c14-f7e5-cb724d6049ab"
      },
      "cell_type": "code",
      "source": [
        "# Print trained weights\n",
        "weights = model.layers[0].get_weights()\n",
        "w = weights[0][0][0]\n",
        "b = weights[1][0]\n",
        "print('Linear regression model is trained with weight w: %.2f, b: %.2f' % (w, b))\n"
      ],
      "execution_count": 109,
      "outputs": [
        {
          "output_type": "stream",
          "text": [
            "Linear regression model is trained with weight w: 0.03, b: -0.02\n"
          ],
          "name": "stdout"
        }
      ]
    },
    {
      "metadata": {
        "id": "KuPrCkpTIMs2",
        "colab_type": "text"
      },
      "cell_type": "markdown",
      "source": [
        "Vẽ biểu đồ đồ thị data gốc và mô hình "
      ]
    },
    {
      "metadata": {
        "id": "E_oVwPH94KKl",
        "colab_type": "code",
        "colab": {
          "base_uri": "https://localhost:8080/",
          "height": 269
        },
        "outputId": "15afcb3f-4b82-4071-b930-b0a20f5262cc"
      },
      "cell_type": "code",
      "source": [
        "plt.plot(trX, trY, label='data')\n",
        "plt.plot(trX, w_init*trX + b_init, label='init')\n",
        "plt.plot(trX, w*trX + b, label='prediction')\n",
        "plt.legend()\n",
        "plt.show()\n"
      ],
      "execution_count": 80,
      "outputs": [
        {
          "output_type": "display_data",
          "data": {
            "image/png": "[encoded data removed]",
            "text/plain": [
              "<Figure size 432x288 with 1 Axes>"
            ]
          },
          "metadata": {
            "tags": []
          }
        }
      ]
    },
    {
      "metadata": {
        "id": "_OURQOYZz9y0",
        "colab_type": "text"
      },
      "cell_type": "markdown",
      "source": [
        "# Multilayer perceptron \n",
        "\n",
        "\bChuẩn bị data \n",
        "\n",
        "https://www.kaggle.com/zalando-research/fashionmnist\n"
      ]
    },
    {
      "metadata": {
        "id": "rbQOuubEaUZg",
        "colab_type": "code",
        "colab": {}
      },
      "cell_type": "code",
      "source": [
        "from google.colab import files\n",
        "files.upload()"
      ],
      "execution_count": 0,
      "outputs": []
    },
    {
      "metadata": {
        "id": "Z7HBeo7GaN7O",
        "colab_type": "code",
        "colab": {
          "base_uri": "https://localhost:8080/",
          "height": 122
        },
        "outputId": "3c35d2bf-c35e-4596-e7b5-cc0003e81869"
      },
      "cell_type": "code",
      "source": [
        "from google.colab import drive\n",
        "drive.mount('/content/drive')"
      ],
      "execution_count": 4,
      "outputs": [
        {
          "output_type": "stream",
          "text": [
            "Go to this URL in a browser: https://accounts.google.com/o/oauth2/auth?client_id=947318989803-6bn6qk8qdgf4n4g3pfee6491hc0brc4i.apps.googleusercontent.com&redirect_uri=urn%3Aietf%3Awg%3Aoauth%3A2.0%3Aoob&scope=email%20https%3A%2F%2Fwww.googleapis.com%2Fauth%2Fdocs.test%20https%3A%2F%2Fwww.googleapis.com%2Fauth%2Fdrive%20https%3A%2F%2Fwww.googleapis.com%2Fauth%2Fdrive.photos.readonly%20https%3A%2F%2Fwww.googleapis.com%2Fauth%2Fpeopleapi.readonly&response_type=code\n",
            "\n",
            "Enter your authorization code:\n",
            "··········\n",
            "Mounted at /content/drive\n"
          ],
          "name": "stdout"
        }
      ]
    },
    {
      "metadata": {
        "id": "zamazXVweJ2D",
        "colab_type": "code",
        "colab": {
          "base_uri": "https://localhost:8080/",
          "height": 34
        },
        "outputId": "a75154ed-6782-4717-aaa6-8d997b4a7787"
      },
      "cell_type": "code",
      "source": [
        "!pwd "
      ],
      "execution_count": 5,
      "outputs": [
        {
          "output_type": "stream",
          "text": [
            "/content\n"
          ],
          "name": "stdout"
        }
      ]
    },
    {
      "metadata": {
        "id": "rtShhRc2Inoj",
        "colab_type": "text"
      },
      "cell_type": "markdown",
      "source": [
        "Copy data sang workspace"
      ]
    },
    {
      "metadata": {
        "id": "YtzgSBwueX7q",
        "colab_type": "code",
        "colab": {}
      },
      "cell_type": "code",
      "source": [
        "!cp 'drive/My Drive/PiMA/data/fashion-mnist_test.csv' fashion-mnist_test.csv\n",
        "!cp 'drive/My Drive/PiMA/data/fashion-mnist_train.csv' fashion-mnist_train.csv"
      ],
      "execution_count": 0,
      "outputs": []
    },
    {
      "metadata": {
        "id": "WOaucmEAIqOz",
        "colab_type": "text"
      },
      "cell_type": "markdown",
      "source": [
        "Khai báo một số thư viện cần thiết "
      ]
    },
    {
      "metadata": {
        "id": "k_tQwU3qWRCr",
        "colab_type": "code",
        "colab": {}
      },
      "cell_type": "code",
      "source": [
        "import keras\n",
        "from keras.models import Sequential\n",
        "from keras.layers import Dense, Activation\n",
        "from keras.utils import to_categorical, np_utils\n",
        "from keras.optimizers import SGD, Adam, RMSprop\n",
        "from keras.models import load_model\n",
        "\n",
        "\n",
        "import pandas as pd\n",
        "import numpy as np\n",
        "import matplotlib.pyplot as plt\n",
        "%matplotlib inline\n"
      ],
      "execution_count": 0,
      "outputs": []
    },
    {
      "metadata": {
        "id": "6XyQ_v_TJHwX",
        "colab_type": "text"
      },
      "cell_type": "markdown",
      "source": [
        "Khai báo một số hằng số, vì ảnh có dạng 28x28 nên INPUT_SHAPE sẽ là 784\n",
        "\n",
        "Số labels là 10 theo dataset quy định \n",
        "\n",
        "Load dữ liệu \n"
      ]
    },
    {
      "metadata": {
        "id": "qMrV5BAhZh-u",
        "colab_type": "code",
        "colab": {}
      },
      "cell_type": "code",
      "source": [
        "INPUT_SHAPE = 784\n",
        "NUM_CATEGORIES = 10\n",
        "\n",
        "LABEL_DICT = {\n",
        " 0: \"T-shirt/top\",\n",
        " 1: \"Trouser\",\n",
        " 2: \"Pullover\",\n",
        " 3: \"Dress\",\n",
        " 4: \"Coat\",\n",
        " 5: \"Sandal\",\n",
        " 6: \"Shirt\",\n",
        " 7: \"Sneaker\",\n",
        " 8: \"Bag\",\n",
        " 9: \"Ankle boot\"\n",
        "}\n",
        "\n",
        "# LOAD THE RAW DATA\n",
        "train_raw = pd.read_csv('fashion-mnist_train.csv').values\n",
        "test_raw = pd.read_csv('fashion-mnist_test.csv').values"
      ],
      "execution_count": 0,
      "outputs": []
    },
    {
      "metadata": {
        "id": "76b7NbMXJ38v",
        "colab_type": "text"
      },
      "cell_type": "markdown",
      "source": [
        "Sử dụng một số thao tác trên array để phân tập data \n",
        "\n",
        "m[:, n] tức là đang lấy vector cột thứ n của ma trận m"
      ]
    },
    {
      "metadata": {
        "id": "1Pviffy2WS_8",
        "colab_type": "code",
        "colab": {}
      },
      "cell_type": "code",
      "source": [
        "# split into X and Y, after one-hot encoding\n",
        "train_x, train_y = (train_raw[:,1:], to_categorical(train_raw[:,0], num_classes = NUM_CATEGORIES))\n",
        "test_x, test_y = (test_raw[:,1:], to_categorical(test_raw[:,0], num_classes = NUM_CATEGORIES))\n",
        "\n",
        "# normalize the x data\n",
        "train_x = train_x / 255\n",
        "test_x = test_x / 255"
      ],
      "execution_count": 0,
      "outputs": []
    },
    {
      "metadata": {
        "id": "iuQ5KgcmKbri",
        "colab_type": "text"
      },
      "cell_type": "markdown",
      "source": [
        "Load mô hình có sẵn"
      ]
    },
    {
      "metadata": {
        "id": "QKi8y7KH9Lg0",
        "colab_type": "code",
        "colab": {}
      },
      "cell_type": "code",
      "source": [
        "model = load_model('mnist-linear.h5')\n"
      ],
      "execution_count": 0,
      "outputs": []
    },
    {
      "metadata": {
        "id": "IRmkn0pJKeRz",
        "colab_type": "text"
      },
      "cell_type": "markdown",
      "source": [
        "**Xây dựng mô hình duy nhất 1 perceptron **"
      ]
    },
    {
      "metadata": {
        "id": "FhFwo-rLpkp2",
        "colab_type": "code",
        "colab": {
          "base_uri": "https://localhost:8080/",
          "height": 71
        },
        "outputId": "dd92e2c7-320a-4caa-a5f4-a69fdd17e339"
      },
      "cell_type": "code",
      "source": [
        "model = Sequential()\n",
        "model.add(Dense(input_dim=INPUT_SHAPE, output_dim=NUM_CATEGORIES, init='uniform', activation='linear'))\n",
        "\n"
      ],
      "execution_count": 83,
      "outputs": [
        {
          "output_type": "stream",
          "text": [
            "/usr/local/lib/python3.6/dist-packages/ipykernel_launcher.py:2: UserWarning: Update your `Dense` call to the Keras 2 API: `Dense(input_dim=784, activation=\"linear\", units=10, kernel_initializer=\"uniform\")`\n",
            "  \n"
          ],
          "name": "stderr"
        }
      ]
    },
    {
      "metadata": {
        "id": "t3idYDzhpbHn",
        "colab_type": "text"
      },
      "cell_type": "markdown",
      "source": [
        "**Xây dựng mô hình MLP cơ bản**"
      ]
    },
    {
      "metadata": {
        "id": "gD01i5udfNUG",
        "colab_type": "code",
        "colab": {}
      },
      "cell_type": "code",
      "source": [
        "# BUILD THE MODEL\n",
        "model = Sequential()\n",
        "\n",
        "model.add(Dense(512, input_dim = INPUT_SHAPE))\n",
        "model.add(Activation('relu'))\n",
        "\n",
        "model.add(Dense(512))\n",
        "model.add(Activation('relu'))\n",
        "\n",
        "model.add(Dense(512))\n",
        "model.add(Activation('relu'))\n",
        "\n",
        "model.add(Dense(NUM_CATEGORIES))\n",
        "model.add(Activation('softmax'))\n"
      ],
      "execution_count": 0,
      "outputs": []
    },
    {
      "metadata": {
        "id": "3RfQqOWzKvW3",
        "colab_type": "text"
      },
      "cell_type": "markdown",
      "source": [
        "Compile "
      ]
    },
    {
      "metadata": {
        "id": "9W7gWiQFzsli",
        "colab_type": "code",
        "colab": {}
      },
      "cell_type": "code",
      "source": [
        "\n",
        "# compile it - categorical crossentropy is for multiple choice classification\n",
        "model.compile(optimizer='rmsprop',\n",
        "              loss='categorical_crossentropy',\n",
        "              metrics=['accuracy'])"
      ],
      "execution_count": 0,
      "outputs": []
    },
    {
      "metadata": {
        "id": "IMWqttkIKxKz",
        "colab_type": "text"
      },
      "cell_type": "markdown",
      "source": [
        "Visual mô hình "
      ]
    },
    {
      "metadata": {
        "id": "LAM0jiFCrN6o",
        "colab_type": "code",
        "colab": {
          "base_uri": "https://localhost:8080/",
          "height": 170
        },
        "outputId": "a2577666-11ac-47f7-af1d-77337f7aa768"
      },
      "cell_type": "code",
      "source": [
        "model.summary()"
      ],
      "execution_count": 101,
      "outputs": [
        {
          "output_type": "stream",
          "text": [
            "_________________________________________________________________\n",
            "Layer (type)                 Output Shape              Param #   \n",
            "=================================================================\n",
            "dense_28 (Dense)             (None, 10)                7850      \n",
            "=================================================================\n",
            "Total params: 7,850\n",
            "Trainable params: 7,850\n",
            "Non-trainable params: 0\n",
            "_________________________________________________________________\n"
          ],
          "name": "stdout"
        }
      ]
    },
    {
      "metadata": {
        "id": "1ZWmpPiPK1Bu",
        "colab_type": "text"
      },
      "cell_type": "markdown",
      "source": [
        "callbacks dùng để ghi lại quá trình thay đổi "
      ]
    },
    {
      "metadata": {
        "id": "W4yGl9umrunR",
        "colab_type": "code",
        "colab": {}
      },
      "cell_type": "code",
      "source": [
        "class LossHistory(keras.callbacks.Callback):\n",
        "    def on_train_begin(self, logs={}):\n",
        "        self.losses = {'batch':[], 'epoch':[]}\n",
        "        self.accuracy = {'batch':[], 'epoch':[]}\n",
        "        self.val_loss = {'batch':[], 'epoch':[]}\n",
        "        self.val_acc = {'batch':[], 'epoch':[]}\n",
        "\n",
        "    def on_batch_end(self, batch, logs={}):\n",
        "        self.losses['batch'].append(logs.get('loss'))\n",
        "        self.accuracy['batch'].append(logs.get('acc'))\n",
        "        self.val_loss['batch'].append(logs.get('val_loss'))\n",
        "        self.val_acc['batch'].append(logs.get('val_acc'))\n",
        "        \n",
        "    def on_epoch_end(self, batch, logs={}):\n",
        "        self.losses['epoch'].append(logs.get('loss'))\n",
        "        self.accuracy['epoch'].append(logs.get('acc'))\n",
        "        self.val_loss['epoch'].append(logs.get('val_loss'))\n",
        "        self.val_acc['epoch'].append(logs.get('val_acc'))\n",
        "        \n",
        "    def loss_plot(self, loss_type):\n",
        "        iters = range(len(self.losses[loss_type]))\n",
        "        plt.figure()\n",
        "        # acc\n",
        "        plt.plot(iters, self.accuracy[loss_type], 'r', label='train acc')\n",
        "        # loss\n",
        "        plt.plot(iters, self.losses[loss_type], 'g', label='train loss')\n",
        "        if loss_type == 'epoch':\n",
        "            # val_acc\n",
        "            plt.plot(iters, self.val_acc[loss_type], 'b', label='val acc')\n",
        "            # val_loss\n",
        "            plt.plot(iters, self.val_loss[loss_type], 'k', label='val loss')\n",
        "        plt.grid(True)\n",
        "        plt.xlabel(loss_type)\n",
        "        plt.ylabel('acc-loss')\n",
        "        plt.legend(loc=\"upper right\")\n",
        "        plt.show()\n"
      ],
      "execution_count": 0,
      "outputs": []
    },
    {
      "metadata": {
        "id": "fF_VfuCCK6Cq",
        "colab_type": "text"
      },
      "cell_type": "markdown",
      "source": [
        "Huấn luyện mô hình "
      ]
    },
    {
      "metadata": {
        "id": "UyB_y8YUfSaA",
        "colab_type": "code",
        "colab": {
          "base_uri": "https://localhost:8080/",
          "height": 241
        },
        "outputId": "0cf384f5-4996-4de3-c080-c3f38687226d"
      },
      "cell_type": "code",
      "source": [
        "history = LossHistory()\n",
        "model.fit(train_x,\n",
        "          train_y,\n",
        "          epochs = 5,\n",
        "          batch_size = 32,\n",
        "          validation_data = (test_x, test_y),\n",
        "          callbacks=[history])"
      ],
      "execution_count": 95,
      "outputs": [
        {
          "output_type": "stream",
          "text": [
            "Train on 60000 samples, validate on 10000 samples\n",
            "Epoch 1/5\n",
            "60000/60000 [==============================] - 33s 543us/step - loss: 0.5510 - acc: 0.8044 - val_loss: 0.4298 - val_acc: 0.8522\n",
            "Epoch 2/5\n",
            "60000/60000 [==============================] - 32s 526us/step - loss: 0.4552 - acc: 0.8464 - val_loss: 0.4718 - val_acc: 0.8545\n",
            "Epoch 3/5\n",
            "60000/60000 [==============================] - 31s 524us/step - loss: 0.4386 - acc: 0.8553 - val_loss: 0.4851 - val_acc: 0.8351\n",
            "Epoch 4/5\n",
            "60000/60000 [==============================] - 31s 520us/step - loss: 0.4279 - acc: 0.8604 - val_loss: 0.3773 - val_acc: 0.8779\n",
            "Epoch 5/5\n",
            "60000/60000 [==============================] - 31s 521us/step - loss: 0.4139 - acc: 0.8683 - val_loss: 0.4276 - val_acc: 0.8666\n"
          ],
          "name": "stdout"
        },
        {
          "output_type": "execute_result",
          "data": {
            "text/plain": [
              "<keras.callbacks.History at 0x7f454c87f828>"
            ]
          },
          "metadata": {
            "tags": []
          },
          "execution_count": 95
        }
      ]
    },
    {
      "metadata": {
        "id": "gXtl5j-MK82S",
        "colab_type": "text"
      },
      "cell_type": "markdown",
      "source": [
        "Độ chính xác của mô hình"
      ]
    },
    {
      "metadata": {
        "id": "pEy4fHQyoyaY",
        "colab_type": "code",
        "colab": {
          "base_uri": "https://localhost:8080/",
          "height": 51
        },
        "outputId": "2e6dede4-ecfc-48ca-d51f-8dc4c0f1e6d0"
      },
      "cell_type": "code",
      "source": [
        "score = model.evaluate(test_x, test_y, verbose=0)\n",
        "print('Test score:', score[0])\n",
        "print('Test accuracy:', score[1])"
      ],
      "execution_count": 96,
      "outputs": [
        {
          "output_type": "stream",
          "text": [
            "Test score: 0.4275770235776901\n",
            "Test accuracy: 0.8666\n"
          ],
          "name": "stdout"
        }
      ]
    },
    {
      "metadata": {
        "id": "KFtNShBgLDGa",
        "colab_type": "text"
      },
      "cell_type": "markdown",
      "source": [
        "Đồ thị biểu diễn sự thay đổi sai số của mô hình"
      ]
    },
    {
      "metadata": {
        "id": "sGEYvZmesI9_",
        "colab_type": "code",
        "colab": {
          "base_uri": "https://localhost:8080/",
          "height": 283
        },
        "outputId": "9fe2fe1a-7a31-42c9-f3d6-5e15eba44deb"
      },
      "cell_type": "code",
      "source": [
        "history.loss_plot('epoch')"
      ],
      "execution_count": 97,
      "outputs": [
        {
          "output_type": "display_data",
          "data": {
            "image/png": "[encoded data removed]",
            "text/plain": [
              "<Figure size 432x288 with 1 Axes>"
            ]
          },
          "metadata": {
            "tags": []
          }
        }
      ]
    },
    {
      "metadata": {
        "id": "c0tHRouGLKOx",
        "colab_type": "text"
      },
      "cell_type": "markdown",
      "source": [
        "Chuyển thành số nguyên và hiển thị dự đoán với tập test"
      ]
    },
    {
      "metadata": {
        "id": "crueD9fgCeTw",
        "colab_type": "code",
        "colab": {
          "base_uri": "https://localhost:8080/",
          "height": 136
        },
        "outputId": "b33178e0-06e5-493a-d2ee-98f1e584b423"
      },
      "cell_type": "code",
      "source": [
        "predict = model.predict(test_x)\n",
        "predict = np.exp(predict)\n",
        "predict = predict.astype(int)\n",
        "print(predict)\n"
      ],
      "execution_count": 105,
      "outputs": [
        {
          "output_type": "stream",
          "text": [
            "[[  0   0 100 ...   0   0   0]\n",
            " [  0   0   9 ...   0   0   0]\n",
            " [  0   0   7 ...   0   0   0]\n",
            " ...\n",
            " [  0   0  92 ...   0   0   0]\n",
            " [  0   0 419 ...   0   0   0]\n",
            " [  0   0 267 ...   0   0   0]]\n"
          ],
          "name": "stdout"
        }
      ]
    },
    {
      "metadata": {
        "id": "kZ1OS1jCLRA4",
        "colab_type": "text"
      },
      "cell_type": "markdown",
      "source": [
        "Lưu file csv "
      ]
    },
    {
      "metadata": {
        "id": "qUggE7qlDCKq",
        "colab_type": "code",
        "colab": {}
      },
      "cell_type": "code",
      "source": [
        "pred2 = pd.DataFrame((predict))\n",
        "pred2.to_csv('sol2.csv')\n"
      ],
      "execution_count": 0,
      "outputs": []
    },
    {
      "metadata": {
        "id": "o7JX4Ey2LSs6",
        "colab_type": "text"
      },
      "cell_type": "markdown",
      "source": [
        "Lưu mô hình "
      ]
    },
    {
      "metadata": {
        "id": "pCiui0V865hm",
        "colab_type": "code",
        "colab": {}
      },
      "cell_type": "code",
      "source": [
        "model.save('mnist-linear.h5')"
      ],
      "execution_count": 0,
      "outputs": []
    },
    {
      "metadata": {
        "id": "F132I0Y0Sf9h",
        "colab_type": "text"
      },
      "cell_type": "markdown",
      "source": [
        "# Setup virtual machine "
      ]
    },
    {
      "metadata": {
        "id": "FJiXG30aSpO0",
        "colab_type": "text"
      },
      "cell_type": "markdown",
      "source": [
        "Thiết lập tài khoản "
      ]
    },
    {
      "metadata": {
        "id": "l7rhiy8VSfmv",
        "colab_type": "code",
        "colab": {
          "base_uri": "https://localhost:8080/",
          "height": 258
        },
        "outputId": "fd290323-60c6-4c5e-ec3e-5c47ff963a06"
      },
      "cell_type": "code",
      "source": [
        "%%bash\n",
        "adduser admin "
      ],
      "execution_count": 1,
      "outputs": [
        {
          "output_type": "stream",
          "text": [
            "Adding user `admin' ...\n",
            "Adding new group `admin' (1000) ...\n",
            "Adding new user `admin' (1000) with group `admin' ...\n",
            "Creating home directory `/home/admin' ...\n",
            "Copying files from `/etc/skel' ...\n",
            "Try again? [y/N] Changing the user information for admin\n",
            "Enter the new value, or press ENTER for the default\n",
            "\tFull Name []: \tRoom Number []: \tWork Phone []: \tHome Phone []: \tOther []: Is the information correct? [Y/n] "
          ],
          "name": "stdout"
        },
        {
          "output_type": "stream",
          "text": [
            "Enter new UNIX password: Retype new UNIX password: passwd: Authentication token manipulation error\n",
            "passwd: password unchanged\n",
            "Use of uninitialized value $answer in chop at /usr/sbin/adduser line 591.\n",
            "Use of uninitialized value $answer in pattern match (m//) at /usr/sbin/adduser line 592.\n",
            "Use of uninitialized value $answer in chop at /usr/sbin/adduser line 621.\n",
            "Use of uninitialized value $answer in pattern match (m//) at /usr/sbin/adduser line 622.\n"
          ],
          "name": "stderr"
        }
      ]
    },
    {
      "metadata": {
        "id": "tle-5od4SzvA",
        "colab_type": "text"
      },
      "cell_type": "markdown",
      "source": [
        "Thiết lập mật khẩu "
      ]
    },
    {
      "metadata": {
        "id": "m7AjTGNdR2wF",
        "colab_type": "code",
        "colab": {
          "base_uri": "https://localhost:8080/",
          "height": 34
        },
        "outputId": "15c18d0b-a247-4092-d603-ae7f67a0f289"
      },
      "cell_type": "code",
      "source": [
        "%%bash\n",
        "usermod -aG sudo admin\n",
        "passwd admin\n",
        "123456\n",
        "123456"
      ],
      "execution_count": 2,
      "outputs": [
        {
          "output_type": "stream",
          "text": [
            "Enter new UNIX password: Retype new UNIX password: passwd: password updated successfully\n"
          ],
          "name": "stderr"
        }
      ]
    },
    {
      "metadata": {
        "id": "WtP_qt1pTpD_",
        "colab_type": "text"
      },
      "cell_type": "markdown",
      "source": [
        "Load data từ google drive\n",
        "\n",
        "Sau khi chạy cell này, các em làm theo hướng dẫn, lấy token từ google paste vào ô trắng hiện lên "
      ]
    },
    {
      "metadata": {
        "id": "Dtj8I7slTkBI",
        "colab_type": "code",
        "colab": {}
      },
      "cell_type": "code",
      "source": [
        "from google.colab import drive\n",
        "drive.mount('/home/admin/drive')"
      ],
      "execution_count": 0,
      "outputs": []
    },
    {
      "metadata": {
        "id": "lr3DYvQQS5TN",
        "colab_type": "text"
      },
      "cell_type": "markdown",
      "source": [
        "Khởi động ssh "
      ]
    },
    {
      "metadata": {
        "id": "y5GOz3vlS3ap",
        "colab_type": "code",
        "colab": {}
      },
      "cell_type": "code",
      "source": [
        "! service ssh start"
      ],
      "execution_count": 0,
      "outputs": []
    },
    {
      "metadata": {
        "id": "d8YndTQdS97s",
        "colab_type": "text"
      },
      "cell_type": "markdown",
      "source": [
        "Khởi tạo token "
      ]
    },
    {
      "metadata": {
        "id": "BBYpcTKYS9et",
        "colab_type": "code",
        "colab": {}
      },
      "cell_type": "code",
      "source": [
        "! wget https://bin.equinox.io/c/4VmDzA7iaHb/ngrok-stable-linux-amd64.zip\n",
        "! unzip -u ngrok-stable-linux-amd64.zip \n",
        "! ./ngrok authtoken 7pkxYrr9wzSevuzF8YuRj_3gmw4RNFDGFeJWShcvCCF\n",
        "\n"
      ],
      "execution_count": 0,
      "outputs": []
    },
    {
      "metadata": {
        "id": "pjISuz9STD4u",
        "colab_type": "text"
      },
      "cell_type": "markdown",
      "source": [
        "Khởi chạy máy ảo "
      ]
    },
    {
      "metadata": {
        "id": "gsGedIoaTDeY",
        "colab_type": "code",
        "colab": {}
      },
      "cell_type": "code",
      "source": [
        "! ./ngrok tcp 22\n"
      ],
      "execution_count": 0,
      "outputs": []
    },
    {
      "metadata": {
        "id": "TVTotgc2Uftp",
        "colab_type": "text"
      },
      "cell_type": "markdown",
      "source": [
        "Sau khi khởi chạy máy ảo, lệnh trên sẽ không dừng lại, các em cần mở terminal lên, kết nối vào ssh theo những lệnh dưới đây "
      ]
    },
    {
      "metadata": {
        "id": "_e8s-i-HUiJY",
        "colab_type": "code",
        "colab": {}
      },
      "cell_type": "code",
      "source": [
        "ssh admin@<tunnel> -p <port> \n",
        "\n",
        "#trong đó tunnel là phần trong 0. trở đi trong ngrok tụi em đã khởi tạo \n",
        "#port là phần từ : trở đi trong status ( giải thích kĩ hơn ở slide )\n",
        "#Kết thúc dòng lệnh này, các em đã chính thức kết nối với máy chủ \n",
        "\n",
        "export PATH=/opt/bin:/usr/local/bin:/usr/local/sbin:/usr/local/bin:/usr/sbin:/usr/bin:/sbin:/bin:/tools/node/bin:/tools/google-cloud-sdk/bin\n",
        "export LD_LIBRARY_PATH=/usr/lib64-nvidia\n",
        "export PYTHONPATH=/env/python\n",
        "\n",
        "sudo apt-get install software-properties-common\n",
        "sudo apt install vim tmux\n",
        "sudo apt install fuse\n",
        "\n",
        "#sau khi khởi chạy, các em làm việc trên terminal như bình thường "
      ],
      "execution_count": 0,
      "outputs": []
    }
  ]
}